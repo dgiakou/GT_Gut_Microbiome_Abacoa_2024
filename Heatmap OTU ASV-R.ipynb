{
 "cells": [
  {
   "cell_type": "code",
   "execution_count": 5,
   "id": "6fb65609b2781be0",
   "metadata": {
    "ExecuteTime": {
     "end_time": "2024-08-16T02:26:38.611269Z",
     "start_time": "2024-08-16T02:26:37.879538Z"
    }
   },
   "outputs": [
    {
     "data": {
      "text/html": [
       "<strong>quartz_off_screen:</strong> 3"
      ],
      "text/latex": [
       "\\textbf{quartz\\textbackslash{}\\_off\\textbackslash{}\\_screen:} 3"
      ],
      "text/markdown": [
       "**quartz_off_screen:** 3"
      ],
      "text/plain": [
       "quartz_off_screen \n",
       "                3 "
      ]
     },
     "metadata": {},
     "output_type": "display_data"
    }
   ],
   "source": [
    "# Load the necessary library\n",
    "library(pheatmap)\n",
    "\n",
    "# Define the order of samples and their genders\n",
    "male_samples <- c(\"T20\", \"T107\", \"T203\", \"T212\", \"T99\", \"T195\", \"T205\", \"T160\", \"T216\", \"T209\", \"T16\")\n",
    "female_samples <- c(\"T11\", \"T85.1\", \"T65\", \"T196\", \"T85.2\", \"TAK\", \"T85.3\", \"T159\", \"TAA\", \"T4.1\", \"T214\", \"T136\", \"T17\", \"T217\")\n",
    "\n",
    "# Create a vector of genders corresponding to the ordered sample list\n",
    "sample_sexes <- c(rep(\"Male\", length(male_samples)), rep(\"Female\", length(female_samples)))\n",
    "\n",
    "# Read the data\n",
    "data <- read.table(\"/Users/dimitriosgiakoumas/Library/CloudStorage/OneDrive-FloridaAtlanticUniversity/ANCOM/taxa_abun_table_L7.txt\", header = TRUE, row.names = 1, sep = \"\\t\")\n",
    "\n",
    "# Ensure the data is in the correct order and filter out any samples not in the metadata\n",
    "data <- data[, c(male_samples, female_samples)]\n",
    "\n",
    "# Calculate variance for each taxon and filter for the top 10%\n",
    "variances <- apply(data, 1, var)  # Calculate variance for each row\n",
    "threshold <- quantile(variances, 0.99)  # Find the 99th percentile\n",
    "data_filtered <- data[variances > threshold, ]  # Filter rows\n",
    "\n",
    "# Create a data frame for the annotation bar\n",
    "annotation_col <- data.frame(Sex = factor(sample_sexes))\n",
    "rownames(annotation_col) <- colnames(data_filtered)\n",
    "\n",
    "# Define colors for the annotation\n",
    "annotation_colors <- list(Sex = c(Male = \"blue\", Female = \"pink\"))\n",
    "\n",
    "# Define a custom color palette\n",
    "my_palette <- colorRampPalette(c(\"blue\", \"white\", \"red\"))(n = 100) # n defines the number of colors\n",
    "\n",
    "# Set the width and height of the heatmap\n",
    "heatmap_width <- 10\n",
    "heatmap_height <- 8\n",
    "\n",
    "# Save the plot as a PNG file with 300 DPI\n",
    "png(filename = \"/Users/dimitriosgiakoumas/Library/CloudStorage/OneDrive-FloridaAtlanticUniversity/ANCOM/heatmap.png\", width = heatmap_width * 300, height = heatmap_height * 400, res = 300)\n",
    "pheatmap(data_filtered,\n",
    "         scale = \"row\",\n",
    "         clustering_distance_rows = \"euclidean\",\n",
    "         clustering_distance_cols = \"euclidean\",\n",
    "         clustering_method = \"complete\",\n",
    "         annotation_col = annotation_col,\n",
    "         annotation_colors = annotation_colors,\n",
    "         col_cluster = FALSE,\n",
    "         color = my_palette,\n",
    "         main = \"Differential Taxa Abundance at Species Resolution of Male & Female Samples\\nTop 1% Variant Taxa Highlighted\") # Use the custom palette and add title\n",
    "dev.off()\n"
   ]
  },
  {
   "cell_type": "code",
   "execution_count": 9,
   "id": "f6c9e1c5fbcb0483",
   "metadata": {
    "ExecuteTime": {
     "end_time": "2024-08-16T02:26:49.887450Z",
     "start_time": "2024-08-16T02:26:48.130765Z"
    }
   },
   "outputs": [
    {
     "data": {
      "text/html": [
       "<strong>quartz_off_screen:</strong> 3"
      ],
      "text/latex": [
       "\\textbf{quartz\\textbackslash{}\\_off\\textbackslash{}\\_screen:} 3"
      ],
      "text/markdown": [
       "**quartz_off_screen:** 3"
      ],
      "text/plain": [
       "quartz_off_screen \n",
       "                3 "
      ]
     },
     "metadata": {},
     "output_type": "display_data"
    },
    {
     "name": "stdout",
     "output_type": "stream",
     "text": [
      "[1] \"Failed to save heatmap at /Users/dimitriosgiakoumas/Library/CloudStorage/OneDrive-FloridaAtlanticUniversity/ANCOM/heatmapASV.png\"\n"
     ]
    }
   ],
   "source": [
    "# Load the necessary library\n",
    "library(pheatmap)\n",
    "\n",
    "# Define the order of samples and their genders\n",
    "male_samples <- c(\"T20\", \"T107\", \"T203\", \"T212\", \"T99\", \"T195\", \"T205\", \"T160\", \"T216\", \"T209\", \"T16\")\n",
    "female_samples <- c(\"T11\", \"T85.1\", \"T65\", \"T196\", \"T85.2\", \"TAK\", \"T85.3\", \"T159\", \"TAA\", \"T4.1\", \"T214\", \"T136\", \"T17\", \"T217\")\n",
    "\n",
    "# Create a vector of genders corresponding to the ordered sample list\n",
    "sample_sexes <- c(rep(\"Male\", length(male_samples)), rep(\"Female\", length(female_samples)))\n",
    "\n",
    "# Read the data\n",
    "data <- read.table(\"/Users/dimitriosgiakoumas/Library/CloudStorage/OneDrive-FloridaAtlanticUniversity/ANCOM/Raw_Data.txt\", header = TRUE, row.names = 1, sep = \"\\t\")\n",
    "\n",
    "# Ensure the data is in the correct order and filter out any samples not in the metadata\n",
    "data <- data[, c(male_samples, female_samples)]\n",
    "\n",
    "# Calculate variance for each taxon and filter for the top 1%\n",
    "variances <- apply(data, 1, var)  # Calculate variance for each row\n",
    "threshold <- quantile(variances, 0.99)  # Find the 99th percentile\n",
    "data_filtered <- data[variances > threshold, ]  # Filter rows\n",
    "\n",
    "# Create a data frame for the annotation bar\n",
    "annotation_col <- data.frame(Sex = factor(sample_sexes))\n",
    "rownames(annotation_col) <- colnames(data_filtered)\n",
    "\n",
    "# Define colors for the annotation\n",
    "annotation_colors <- list(Sex = c(Male = \"blue\", Female = \"pink\"))\n",
    "\n",
    "# Define a custom color palette (default gradient)\n",
    "my_palette <- colorRampPalette(c(\"blue\", \"white\", \"red\"))(100)\n",
    "\n",
    "# File path to save the heatmap\n",
    "output_file <- \"/Users/dimitriosgiakoumas/Library/CloudStorage/OneDrive-FloridaAtlanticUniversity/ANCOM/heatmapASV.png\"\n",
    "\n",
    "# Set the width and height of the heatmap\n",
    "heatmap_width <- 10\n",
    "heatmap_height <- 8\n",
    "\n",
    "# Save the plot as a PNG file with 300 DPI\n",
    "png(filename = output_file, width = heatmap_width * 300, height = heatmap_height * 400, res = 300)\n",
    "pheatmap(data_filtered,\n",
    "         scale = \"row\",\n",
    "         clustering_distance_rows = \"euclidean\",\n",
    "         clustering_distance_cols = \"euclidean\",\n",
    "         clustering_method = \"complete\",\n",
    "         annotation_col = annotation_col,\n",
    "         annotation_colors = annotation_colors,\n",
    "         col_cluster = FALSE,\n",
    "         color = my_palette,\n",
    "         main = \"Differential ASV Abundance of Male & Female Samples\\nTop 1% Variant ASVs Highlighted\") # Use the custom palette and add title\n",
    "dev.off()\n",
    "\n",
    "# Check if the file was created\n",
    "if (file.exists(output_file)) {\n",
    "print(paste(\"Heatmap saved successfully at\", output_file))\n",
    "} else {\n",
    "print(paste(\"Failed to save heatmap at\", output_file))\n",
    "}\n"
   ]
  },
  {
   "cell_type": "code",
   "execution_count": 13,
   "id": "16e3c164d2f0ed96",
   "metadata": {
    "ExecuteTime": {
     "end_time": "2024-08-16T02:26:57.043824Z",
     "start_time": "2024-08-16T02:26:56.565231Z"
    }
   },
   "outputs": [
    {
     "data": {
      "text/html": [
       "<strong>quartz_off_screen:</strong> 3"
      ],
      "text/latex": [
       "\\textbf{quartz\\textbackslash{}\\_off\\textbackslash{}\\_screen:} 3"
      ],
      "text/markdown": [
       "**quartz_off_screen:** 3"
      ],
      "text/plain": [
       "quartz_off_screen \n",
       "                3 "
      ]
     },
     "metadata": {},
     "output_type": "display_data"
    }
   ],
   "source": [
    "# Load the necessary library\n",
    "library(pheatmap)\n",
    "\n",
    "# Define the order of samples and their genders\n",
    "male_samples <- c(\"T20\", \"T107\", \"T203\", \"T212\", \"T99\", \"T195\", \"T205\", \"T160\", \"T216\", \"T209\", \"T16\")\n",
    "female_samples <- c(\"T11\", \"T85.1\", \"T65\", \"T196\", \"T85.2\", \"TAK\", \"T85.3\", \"T159\", \"TAA\", \"T4.1\", \"T214\", \"T136\", \"T17\", \"T217\")\n",
    "\n",
    "# Create a vector of genders corresponding to the ordered sample list\n",
    "sample_sexes <- c(rep(\"Male\", length(male_samples)), rep(\"Female\", length(female_samples)))\n",
    "\n",
    "# Read the data\n",
    "data <- read.table(\"/Users/dimitriosgiakoumas/Library/CloudStorage/OneDrive-FloridaAtlanticUniversity/ANCOM/taxa_abun_table_L7.txt\", header = TRUE, row.names = 1, sep = \"\\t\")\n",
    "\n",
    "# Ensure the data is in the correct order and filter out any samples not in the metadata\n",
    "data <- data[, c(male_samples, female_samples)]\n",
    "\n",
    "# Calculate variance for each taxon and filter for the top 10%\n",
    "variances <- apply(data, 1, var)  # Calculate variance for each row\n",
    "threshold <- quantile(variances, 0.99)  # Find the 99th percentile\n",
    "data_filtered <- data[variances > threshold, ]  # Filter rows\n",
    "\n",
    "# Create a data frame for the annotation bar\n",
    "annotation_col <- data.frame(Sex = factor(sample_sexes))\n",
    "rownames(annotation_col) <- colnames(data_filtered)\n",
    "\n",
    "# Define colors for the annotation\n",
    "annotation_colors <- list(Sex = c(Male = \"blue\", Female = \"pink\"))\n",
    "\n",
    "# Define a custom color palette\n",
    "my_palette <- colorRampPalette(c(\"blue\", \"white\", \"red\"))(n = 100) # n defines the number of colors\n",
    "\n",
    "# Set the width and height of the heatmap\n",
    "heatmap_width <- 10\n",
    "heatmap_height <- 8\n",
    "\n",
    "# Save the plot as a PNG file with 300 DPI\n",
    "png(filename = \"/Users/dimitriosgiakoumas/Library/CloudStorage/OneDrive-FloridaAtlanticUniversity/ANCOM/heatmapOTU.png\", width = heatmap_width * 400, height = heatmap_height * 400, res = 300)\n",
    "pheatmap(data_filtered,\n",
    "         scale = \"row\",\n",
    "         clustering_distance_rows = \"euclidean\",\n",
    "         clustering_distance_cols = \"euclidean\",\n",
    "         clustering_method = \"complete\",\n",
    "         annotation_col = annotation_col,\n",
    "         annotation_colors = annotation_colors,\n",
    "         col_cluster = FALSE,\n",
    "         color = my_palette,\n",
    "         main = \"Differential Taxa Abundance at Species Resolution of Male & Female Samples\\nTop 1% Variant Taxa Highlighted\") # Use the custom palette and add title\n",
    "dev.off()\n"
   ]
  },
  {
   "cell_type": "code",
   "execution_count": 14,
   "id": "db0d7dfae30aaf5d",
   "metadata": {
    "ExecuteTime": {
     "end_time": "2024-08-16T02:26:58.611123Z",
     "start_time": "2024-08-16T02:26:57.926013Z"
    }
   },
   "outputs": [
    {
     "data": {
      "text/html": [
       "<strong>quartz_off_screen:</strong> 3"
      ],
      "text/latex": [
       "\\textbf{quartz\\textbackslash{}\\_off\\textbackslash{}\\_screen:} 3"
      ],
      "text/markdown": [
       "**quartz_off_screen:** 3"
      ],
      "text/plain": [
       "quartz_off_screen \n",
       "                3 "
      ]
     },
     "metadata": {},
     "output_type": "display_data"
    }
   ],
   "source": [
    "# Load the necessary library\n",
    "library(pheatmap)\n",
    "\n",
    "# Define the order of samples and their genders\n",
    "male_samples <- c(\"T20\", \"T107\", \"T203\", \"T212\", \"T99\", \"T195\", \"T205\", \"T160\", \"T216\", \"T209\", \"T16\")\n",
    "female_samples <- c(\"T11\", \"T85.1\", \"T65\", \"T196\", \"T85.2\", \"TAK\", \"T85.3\", \"T159\", \"TAA\", \"T4.1\", \"T214\", \"T136\", \"T17\", \"T217\")\n",
    "\n",
    "# Create a vector of genders corresponding to the ordered sample list\n",
    "sample_sexes <- c(rep(\"Male\", length(male_samples)), rep(\"Female\", length(female_samples)))\n",
    "\n",
    "# Read the data\n",
    "data <- read.table(\"/Users/dimitriosgiakoumas/Library/CloudStorage/OneDrive-FloridaAtlanticUniversity/ANCOM/taxa_abun_table_L7.txt\", header = TRUE, row.names = 1, sep = \"\\t\")\n",
    "\n",
    "# Ensure the data is in the correct order and filter out any samples not in the metadata\n",
    "data <- data[, c(male_samples, female_samples)]\n",
    "\n",
    "# Calculate variance for each taxon and filter for the top 10%\n",
    "variances <- apply(data, 1, var)  # Calculate variance for each row\n",
    "threshold <- quantile(variances, 0.99)  # Find the 99th percentile\n",
    "data_filtered <- data[variances > threshold, ]  # Filter rows\n",
    "\n",
    "# Create a data frame for the annotation bar\n",
    "annotation_col <- data.frame(Sex = factor(sample_sexes))\n",
    "rownames(annotation_col) <- colnames(data_filtered)\n",
    "\n",
    "# Define colors for the annotation\n",
    "annotation_colors <- list(Sex = c(Male = \"blue\", Female = \"pink\"))\n",
    "\n",
    "# Define a custom color palette\n",
    "my_palette <- colorRampPalette(c(\"blue\", \"white\", \"red\"))(n = 100) # n defines the number of colors\n",
    "\n",
    "# Set the width and height of the heatmap\n",
    "heatmap_width <- 14\n",
    "heatmap_height <- 10\n",
    "\n",
    "# Save the plot as a PNG file with 300 DPI\n",
    "png(filename = \"/Users/dimitriosgiakoumas/Library/CloudStorage/OneDrive-FloridaAtlanticUniversity/ANCOM/heatmapOTU.png\", width = heatmap_width * 400, height = heatmap_height * 400, res = 300)\n",
    "pheatmap(data_filtered,\n",
    "         scale = \"row\",\n",
    "         clustering_distance_rows = \"euclidean\",\n",
    "         clustering_distance_cols = \"euclidean\",\n",
    "         clustering_method = \"complete\",\n",
    "         annotation_col = annotation_col,\n",
    "         annotation_colors = annotation_colors,\n",
    "         col_cluster = FALSE,\n",
    "         color = my_palette,\n",
    "         main = \"Differential Taxa Abundance at Species Resolution of Male & Female Samples\\nTop 1% Variant Taxa Highlighted\") # Use the custom palette and add title\n",
    "dev.off()\n"
   ]
  },
  {
   "cell_type": "code",
   "execution_count": 15,
   "id": "576ba59cb347ffc6",
   "metadata": {
    "ExecuteTime": {
     "end_time": "2024-08-16T02:27:00.398657Z",
     "start_time": "2024-08-16T02:27:00.370361Z"
    }
   },
   "outputs": [
    {
     "ename": "ERROR",
     "evalue": "Error in parse(text = x, srcfile = src): <text>:1:6: unexpected symbol\n1: from PIL\n         ^\n",
     "output_type": "error",
     "traceback": [
      "Error in parse(text = x, srcfile = src): <text>:1:6: unexpected symbol\n1: from PIL\n         ^\nTraceback:\n"
     ]
    }
   ],
   "source": [
    "from PIL import Image\n",
    "\n",
    "# Open the PNG file\n",
    "png_path = '/Users/dimitriosgiakoumas/Library/CloudStorage/OneDrive-FloridaAtlanticUniversity/ANCOM/heatmapOTU.png'\n",
    "tif_path = '/Users/dimitriosgiakoumas/Library/CloudStorage/OneDrive-FloridaAtlanticUniversity/ANCOM/heatmapOTU.tif'\n",
    "\n",
    "# Convert PNG to TIFF\n",
    "with Image.open(png_path) as img:\n",
    "    img.save(tif_path, format='TIFF', dpi=(300, 300))\n"
   ]
  },
  {
   "cell_type": "code",
   "execution_count": 16,
   "id": "38ef8ceaacf968c5",
   "metadata": {
    "ExecuteTime": {
     "end_time": "2024-08-16T02:27:03.578394Z",
     "start_time": "2024-08-16T02:27:01.842911Z"
    }
   },
   "outputs": [
    {
     "data": {
      "text/html": [
       "<strong>quartz_off_screen:</strong> 3"
      ],
      "text/latex": [
       "\\textbf{quartz\\textbackslash{}\\_off\\textbackslash{}\\_screen:} 3"
      ],
      "text/markdown": [
       "**quartz_off_screen:** 3"
      ],
      "text/plain": [
       "quartz_off_screen \n",
       "                3 "
      ]
     },
     "metadata": {},
     "output_type": "display_data"
    },
    {
     "name": "stdout",
     "output_type": "stream",
     "text": [
      "[1] \"Failed to save heatmap at /Users/dimitriosgiakoumas/Library/CloudStorage/OneDrive-FloridaAtlanticUniversity/ANCOM/heatmapASV.png\"\n"
     ]
    }
   ],
   "source": [
    "# Load the necessary library\n",
    "library(pheatmap)\n",
    "\n",
    "# Define the order of samples and their genders\n",
    "male_samples <- c(\"T20\", \"T107\", \"T203\", \"T212\", \"T99\", \"T195\", \"T205\", \"T160\", \"T216\", \"T209\", \"T16\")\n",
    "female_samples <- c(\"T11\", \"T85.1\", \"T65\", \"T196\", \"T85.2\", \"TAK\", \"T85.3\", \"T159\", \"TAA\", \"T4.1\", \"T214\", \"T136\", \"T17\", \"T217\")\n",
    "\n",
    "# Create a vector of genders corresponding to the ordered sample list\n",
    "sample_sexes <- c(rep(\"Male\", length(male_samples)), rep(\"Female\", length(female_samples)))\n",
    "\n",
    "# Read the data\n",
    "data <- read.table(\"/Users/dimitriosgiakoumas/Library/CloudStorage/OneDrive-FloridaAtlanticUniversity/ANCOM/Raw_Data.txt\", header = TRUE, row.names = 1, sep = \"\\t\")\n",
    "\n",
    "# Ensure the data is in the correct order and filter out any samples not in the metadata\n",
    "data <- data[, c(male_samples, female_samples)]\n",
    "\n",
    "# Calculate variance for each taxon and filter for the top 1%\n",
    "variances <- apply(data, 1, var)  # Calculate variance for each row\n",
    "threshold <- quantile(variances, 0.99)  # Find the 99th percentile\n",
    "data_filtered <- data[variances > threshold, ]  # Filter rows\n",
    "\n",
    "# Create a data frame for the annotation bar\n",
    "annotation_col <- data.frame(Sex = factor(sample_sexes))\n",
    "rownames(annotation_col) <- colnames(data_filtered)\n",
    "\n",
    "# Define colors for the annotation\n",
    "annotation_colors <- list(Sex = c(Male = \"blue\", Female = \"pink\"))\n",
    "\n",
    "# Define a custom color palette (default gradient)\n",
    "my_palette <- colorRampPalette(c(\"blue\", \"white\", \"red\"))(100)\n",
    "\n",
    "# File path to save the heatmap\n",
    "output_file <- \"/Users/dimitriosgiakoumas/Library/CloudStorage/OneDrive-FloridaAtlanticUniversity/ANCOM/heatmapASV.png\"\n",
    "\n",
    "# Set the width and height of the heatmap\n",
    "heatmap_width <- 14\n",
    "heatmap_height <- 8\n",
    "\n",
    "# Save the plot as a PNG file with 300 DPI\n",
    "png(filename = output_file, width = heatmap_width * 300, height = heatmap_height * 400, res = 300)\n",
    "pheatmap(data_filtered,\n",
    "         scale = \"row\",\n",
    "         clustering_distance_rows = \"euclidean\",\n",
    "         clustering_distance_cols = \"euclidean\",\n",
    "         clustering_method = \"complete\",\n",
    "         annotation_col = annotation_col,\n",
    "         annotation_colors = annotation_colors,\n",
    "         col_cluster = FALSE,\n",
    "         color = my_palette,\n",
    "         main = \"Differential ASV Abundance of Male & Female Samples\\nTop 1% Variant ASVs Highlighted\") # Use the custom palette and add title\n",
    "dev.off()\n",
    "\n",
    "# Check if the file was created\n",
    "if (file.exists(output_file)) {\n",
    "print(paste(\"Heatmap saved successfully at\", output_file))\n",
    "} else {\n",
    "print(paste(\"Failed to save heatmap at\", output_file))\n",
    "}\n"
   ]
  },
  {
   "cell_type": "code",
   "execution_count": 17,
   "id": "b89473e9f36c37b4",
   "metadata": {
    "ExecuteTime": {
     "end_time": "2024-08-16T02:27:05.909086Z",
     "start_time": "2024-08-16T02:27:04.610295Z"
    }
   },
   "outputs": [
    {
     "data": {
      "text/html": [
       "<strong>quartz_off_screen:</strong> 3"
      ],
      "text/latex": [
       "\\textbf{quartz\\textbackslash{}\\_off\\textbackslash{}\\_screen:} 3"
      ],
      "text/markdown": [
       "**quartz_off_screen:** 3"
      ],
      "text/plain": [
       "quartz_off_screen \n",
       "                3 "
      ]
     },
     "metadata": {},
     "output_type": "display_data"
    },
    {
     "name": "stdout",
     "output_type": "stream",
     "text": [
      "[1] \"Failed to save heatmap at /Users/dimitriosgiakoumas/Library/CloudStorage/OneDrive-FloridaAtlanticUniversity/ANCOM/heatmapASV.png\"\n"
     ]
    }
   ],
   "source": [
    "# Load the necessary library\n",
    "library(pheatmap)\n",
    "\n",
    "# Define the order of samples and their genders\n",
    "male_samples <- c(\"T20\", \"T107\", \"T203\", \"T212\", \"T99\", \"T195\", \"T205\", \"T160\", \"T216\", \"T209\", \"T16\")\n",
    "female_samples <- c(\"T11\", \"T85.1\", \"T65\", \"T196\", \"T85.2\", \"TAK\", \"T85.3\", \"T159\", \"TAA\", \"T4.1\", \"T214\", \"T136\", \"T17\", \"T217\")\n",
    "\n",
    "# Create a vector of genders corresponding to the ordered sample list\n",
    "sample_sexes <- c(rep(\"Male\", length(male_samples)), rep(\"Female\", length(female_samples)))\n",
    "\n",
    "# Read the data\n",
    "data <- read.table(\"/Users/dimitriosgiakoumas/Library/CloudStorage/OneDrive-FloridaAtlanticUniversity/ANCOM/Raw_Data.txt\", header = TRUE, row.names = 1, sep = \"\\t\")\n",
    "\n",
    "# Ensure the data is in the correct order and filter out any samples not in the metadata\n",
    "data <- data[, c(male_samples, female_samples)]\n",
    "\n",
    "# Calculate variance for each taxon and filter for the top 1%\n",
    "variances <- apply(data, 1, var)  # Calculate variance for each row\n",
    "threshold <- quantile(variances, 0.99)  # Find the 99th percentile\n",
    "data_filtered <- data[variances > threshold, ]  # Filter rows\n",
    "\n",
    "# Create a data frame for the annotation bar\n",
    "annotation_col <- data.frame(Sex = factor(sample_sexes))\n",
    "rownames(annotation_col) <- colnames(data_filtered)\n",
    "\n",
    "# Define colors for the annotation\n",
    "annotation_colors <- list(Sex = c(Male = \"blue\", Female = \"pink\"))\n",
    "\n",
    "# Define a custom color palette (default gradient)\n",
    "my_palette <- colorRampPalette(c(\"blue\", \"white\", \"red\"))(100)\n",
    "\n",
    "# File path to save the heatmap\n",
    "output_file <- \"/Users/dimitriosgiakoumas/Library/CloudStorage/OneDrive-FloridaAtlanticUniversity/ANCOM/heatmapASV.png\"\n",
    "\n",
    "# Set the width and height of the heatmap\n",
    "heatmap_width <- 10\n",
    "heatmap_height <- 8\n",
    "\n",
    "# Save the plot as a PNG file with 300 DPI\n",
    "png(filename = output_file, width = heatmap_width * 300, height = heatmap_height * 300, res = 300)\n",
    "pheatmap(data_filtered,\n",
    "         scale = \"row\",\n",
    "         clustering_distance_rows = \"euclidean\",\n",
    "         clustering_distance_cols = \"euclidean\",\n",
    "         clustering_method = \"complete\",\n",
    "         annotation_col = annotation_col,\n",
    "         annotation_colors = annotation_colors,\n",
    "         col_cluster = FALSE,\n",
    "         color = my_palette,\n",
    "         main = \"Differential ASV Abundance of Male & Female Samples\\nTop 1% Variant ASVs Highlighted\") # Use the custom palette and add title\n",
    "dev.off()\n",
    "\n",
    "# Check if the file was created\n",
    "if (file.exists(output_file)) {\n",
    "print(paste(\"Heatmap saved successfully at\", output_file))\n",
    "} else {\n",
    "print(paste(\"Failed to save heatmap at\", output_file))\n",
    "}\n"
   ]
  },
  {
   "cell_type": "code",
   "execution_count": 3,
   "id": "6d00bddb3b72e20",
   "metadata": {},
   "outputs": [
    {
     "name": "stdout",
     "output_type": "stream",
     "text": [
      "Converted /Users/dimitriosgiakoumas/Library/CloudStorage/OneDrive-FloridaAtlanticUniversity/ANCOM/heatmapASV.png to /Users/dimitriosgiakoumas/Library/CloudStorage/OneDrive-FloridaAtlanticUniversity/ANCOM/heatmapASV.tif successfully.\n"
     ]
    }
   ],
   "source": [
    "from PIL import Image\n",
    "\n",
    "# Open the PNG file\n",
    "png_path = '/Users/dimitriosgiakoumas/Library/CloudStorage/OneDrive-FloridaAtlanticUniversity/ANCOM/heatmapASV.png'\n",
    "tif_path = '/Users/dimitriosgiakoumas/Library/CloudStorage/OneDrive-FloridaAtlanticUniversity/ANCOM/heatmapASV.tif'\n",
    "\n",
    "# Convert PNG to TIFF\n",
    "with Image.open(png_path) as img:\n",
    "    img.save(tif_path, format='TIFF', dpi=(300, 300))\n",
    "\n",
    "print(f\"Converted {png_path} to {tif_path} successfully.\")\n"
   ]
  },
  {
   "cell_type": "code",
   "execution_count": 5,
   "id": "e6faffabe0a2eea3",
   "metadata": {},
   "outputs": [
    {
     "name": "stdout",
     "output_type": "stream",
     "text": [
      "Converted /Users/dimitriosgiakoumas/Library/CloudStorage/OneDrive-FloridaAtlanticUniversity/Figures/LEfSe_Input.png to /Users/dimitriosgiakoumas/Library/CloudStorage/OneDrive-FloridaAtlanticUniversity/Figures/LEfSe_Input.tif successfully.\n"
     ]
    }
   ],
   "source": [
    "\n",
    "from PIL import Image\n",
    "\n",
    "# Open the PNG file\n",
    "png_path = '/Users/dimitriosgiakoumas/Library/CloudStorage/OneDrive-FloridaAtlanticUniversity/Figures/LEfSe_Input.png'\n",
    "tif_path = '/Users/dimitriosgiakoumas/Library/CloudStorage/OneDrive-FloridaAtlanticUniversity/Figures/LEfSe_Input.tif'\n",
    "\n",
    "# Convert PNG to TIFF\n",
    "with Image.open(png_path) as img:\n",
    "    img.save(tif_path, format='TIFF', dpi=(300, 300))\n",
    "\n",
    "print(f\"Converted {png_path} to {tif_path} successfully.\")\n"
   ]
  },
  {
   "cell_type": "code",
   "execution_count": 6,
   "id": "5b6fdbece1c00005",
   "metadata": {},
   "outputs": [
    {
     "name": "stdout",
     "output_type": "stream",
     "text": [
      "Converted /Users/dimitriosgiakoumas/Library/CloudStorage/OneDrive-FloridaAtlanticUniversity/ANCOM/heatmapASV.png to /Users/dimitriosgiakoumas/Library/CloudStorage/OneDrive-FloridaAtlanticUniversity/ANCOM/heatmapASV.tif successfully.\n"
     ]
    }
   ],
   "source": [
    "from PIL import Image\n",
    "\n",
    "# Open the PNG file\n",
    "png_path = '/Users/dimitriosgiakoumas/Library/CloudStorage/OneDrive-FloridaAtlanticUniversity/ANCOM/heatmapASV.png'\n",
    "tif_path = '/Users/dimitriosgiakoumas/Library/CloudStorage/OneDrive-FloridaAtlanticUniversity/ANCOM/heatmapASV.tif'\n",
    "\n",
    "# Convert PNG to TIFF\n",
    "with Image.open(png_path) as img:\n",
    "    img = img.convert(\"RGB\")  # Ensure the image is in RGB mode\n",
    "    img.save(tif_path, format='TIFF', dpi=(300, 300))\n",
    "\n",
    "print(f\"Converted {png_path} to {tif_path} successfully.\")\n"
   ]
  },
  {
   "cell_type": "code",
   "execution_count": 18,
   "id": "40954f541a69009d",
   "metadata": {
    "ExecuteTime": {
     "end_time": "2024-08-16T02:27:23.255695Z",
     "start_time": "2024-08-16T02:27:22.169325Z"
    }
   },
   "outputs": [
    {
     "data": {
      "text/html": [
       "<strong>quartz_off_screen:</strong> 3"
      ],
      "text/latex": [
       "\\textbf{quartz\\textbackslash{}\\_off\\textbackslash{}\\_screen:} 3"
      ],
      "text/markdown": [
       "**quartz_off_screen:** 3"
      ],
      "text/plain": [
       "quartz_off_screen \n",
       "                3 "
      ]
     },
     "metadata": {},
     "output_type": "display_data"
    },
    {
     "name": "stdout",
     "output_type": "stream",
     "text": [
      "[1] \"Failed to save heatmap at /Users/dimitriosgiakoumas/Library/CloudStorage/OneDrive-FloridaAtlanticUniversity/ANCOM/heatmapASV.png\"\n"
     ]
    }
   ],
   "source": [
    "# Load the necessary library\n",
    "library(pheatmap)\n",
    "\n",
    "# Define the order of samples and their genders\n",
    "male_samples <- c(\"T20\", \"T107\", \"T203\", \"T212\", \"T99\", \"T195\", \"T205\", \"T160\", \"T216\", \"T209\", \"T16\")\n",
    "female_samples <- c(\"T11\", \"T85.1\", \"T65\", \"T196\", \"T85.2\", \"TAK\", \"T85.3\", \"T159\", \"TAA\", \"T4.1\", \"T214\", \"T136\", \"T17\", \"T217\")\n",
    "\n",
    "# Create a vector of genders corresponding to the ordered sample list\n",
    "sample_sexes <- c(rep(\"Male\", length(male_samples)), rep(\"Female\", length(female_samples)))\n",
    "\n",
    "# Read the data\n",
    "data <- read.table(\"/Users/dimitriosgiakoumas/Library/CloudStorage/OneDrive-FloridaAtlanticUniversity/ANCOM/Raw_Data.txt\", header = TRUE, row.names = 1, sep = \"\\t\")\n",
    "\n",
    "# Ensure the data is in the correct order and filter out any samples not in the metadata\n",
    "data <- data[, c(male_samples, female_samples)]\n",
    "\n",
    "# Calculate variance for each taxon and filter for the top 1%\n",
    "variances <- apply(data, 1, var)  # Calculate variance for each row\n",
    "threshold <- quantile(variances, 0.99)  # Find the 99th percentile\n",
    "data_filtered <- data[variances > threshold, ]  # Filter rows\n",
    "\n",
    "# Create a data frame for the annotation bar\n",
    "annotation_col <- data.frame(Sex = factor(sample_sexes))\n",
    "rownames(annotation_col) <- colnames(data_filtered)\n",
    "\n",
    "# Define colors for the annotation\n",
    "annotation_colors <- list(Sex = c(Male = \"blue\", Female = \"pink\"))\n",
    "\n",
    "# Define a custom color palette (default gradient)\n",
    "my_palette <- colorRampPalette(c(\"blue\", \"white\", \"red\"))(100)\n",
    "\n",
    "# File path to save the heatmap\n",
    "output_file <- \"/Users/dimitriosgiakoumas/Library/CloudStorage/OneDrive-FloridaAtlanticUniversity/ANCOM/heatmapASV.png\"\n",
    "\n",
    "# Set the width and height of the heatmap\n",
    "# Adjust the width and height to avoid overlapping text\n",
    "heatmap_width <- 18  # Increase width for better visibility of taxonomic names\n",
    "heatmap_height <- 12\n",
    "\n",
    "# Save the plot as a PNG file with 300 DPI\n",
    "png(filename = output_file, width = heatmap_width * 300, height = heatmap_height * 300, res = 300)\n",
    "pheatmap(data_filtered,\n",
    "         scale = \"row\",\n",
    "         clustering_distance_rows = \"euclidean\",\n",
    "         clustering_distance_cols = \"euclidean\",\n",
    "         clustering_method = \"complete\",\n",
    "         annotation_col = annotation_col,\n",
    "         annotation_colors = annotation_colors,\n",
    "         col_cluster = FALSE,\n",
    "         color = my_palette,\n",
    "         fontsize_row = 10,  # Adjust the font size of row labels\n",
    "         fontsize_col = 12,  # Adjust the font size of column labels\n",
    "         main = \"Differential ASV Abundance of Male & Female Samples\\nTop 1% Variant ASVs Highlighted\") # Use the custom palette and add title\n",
    "dev.off()\n",
    "\n",
    "# Check if the file was created\n",
    "if (file.exists(output_file)) {\n",
    "print(paste(\"Heatmap saved successfully at\", output_file))\n",
    "} else {\n",
    "print(paste(\"Failed to save heatmap at\", output_file))\n",
    "}\n"
   ]
  },
  {
   "cell_type": "code",
   "execution_count": 8,
   "id": "12bab71de4883e45",
   "metadata": {},
   "outputs": [
    {
     "name": "stdout",
     "output_type": "stream",
     "text": [
      "Converted /Users/dimitriosgiakoumas/Library/CloudStorage/OneDrive-FloridaAtlanticUniversity/ANCOM/heatmapASV.png to /Users/dimitriosgiakoumas/Library/CloudStorage/OneDrive-FloridaAtlanticUniversity/ANCOM/heatmapASV.tif successfully.\n"
     ]
    }
   ],
   "source": [
    "from PIL import Image\n",
    "\n",
    "# Open the PNG file\n",
    "png_path = '/Users/dimitriosgiakoumas/Library/CloudStorage/OneDrive-FloridaAtlanticUniversity/ANCOM/heatmapASV.png'\n",
    "tif_path = '/Users/dimitriosgiakoumas/Library/CloudStorage/OneDrive-FloridaAtlanticUniversity/ANCOM/heatmapASV.tif'\n",
    "\n",
    "# Convert PNG to TIFF\n",
    "with Image.open(png_path) as img:\n",
    "    img = img.convert(\"RGB\")  # Ensure the image is in RGB mode\n",
    "    img.save(tif_path, format='TIFF', dpi=(300, 300))\n",
    "\n",
    "print(f\"Converted {png_path} to {tif_path} successfully.\")\n"
   ]
  },
  {
   "cell_type": "code",
   "execution_count": 1,
   "id": "86ab9b45c1cbe1dc",
   "metadata": {},
   "outputs": [
    {
     "name": "stdout",
     "output_type": "stream",
     "text": [
      "Converted /Users/dimitriosgiakoumas/Library/CloudStorage/OneDrive-FloridaAtlanticUniversity/Figures/Figure_6a.tif to /Users/dimitriosgiakoumas/Library/CloudStorage/OneDrive-FloridaAtlanticUniversity/Figures/Figure_6a.jpg\n",
      "Converted /Users/dimitriosgiakoumas/Library/CloudStorage/OneDrive-FloridaAtlanticUniversity/Figures/Figure_2b.tiff to /Users/dimitriosgiakoumas/Library/CloudStorage/OneDrive-FloridaAtlanticUniversity/Figures/Figure_2b.jpg\n",
      "Converted /Users/dimitriosgiakoumas/Library/CloudStorage/OneDrive-FloridaAtlanticUniversity/Figures/Figure_2a.tiff to /Users/dimitriosgiakoumas/Library/CloudStorage/OneDrive-FloridaAtlanticUniversity/Figures/Figure_2a.jpg\n",
      "Converted /Users/dimitriosgiakoumas/Library/CloudStorage/OneDrive-FloridaAtlanticUniversity/Figures/Figure_1.tiff to /Users/dimitriosgiakoumas/Library/CloudStorage/OneDrive-FloridaAtlanticUniversity/Figures/Figure_1.jpg\n",
      "Converted /Users/dimitriosgiakoumas/Library/CloudStorage/OneDrive-FloridaAtlanticUniversity/Figures/Figure_3b.tif to /Users/dimitriosgiakoumas/Library/CloudStorage/OneDrive-FloridaAtlanticUniversity/Figures/Figure_3b.jpg\n",
      "Converted /Users/dimitriosgiakoumas/Library/CloudStorage/OneDrive-FloridaAtlanticUniversity/Figures/Figure_3a.tif to /Users/dimitriosgiakoumas/Library/CloudStorage/OneDrive-FloridaAtlanticUniversity/Figures/Figure_3a.jpg\n",
      "Converted /Users/dimitriosgiakoumas/Library/CloudStorage/OneDrive-FloridaAtlanticUniversity/Figures/Figure_5.tif to /Users/dimitriosgiakoumas/Library/CloudStorage/OneDrive-FloridaAtlanticUniversity/Figures/Figure_5.jpg\n",
      "Converted /Users/dimitriosgiakoumas/Library/CloudStorage/OneDrive-FloridaAtlanticUniversity/Figures/Figure_6b.tif to /Users/dimitriosgiakoumas/Library/CloudStorage/OneDrive-FloridaAtlanticUniversity/Figures/Figure_6b.jpg\n"
     ]
    }
   ],
   "source": [
    "from PIL import Image\n",
    "import os\n",
    "\n",
    "# List of file paths to convert\n",
    "file_paths = [\n",
    "    \"/Users/dimitriosgiakoumas/Library/CloudStorage/OneDrive-FloridaAtlanticUniversity/Figures/Figure_6a.tif\",\n",
    "    \"/Users/dimitriosgiakoumas/Library/CloudStorage/OneDrive-FloridaAtlanticUniversity/Figures/Figure_2b.tiff\",\n",
    "    \"/Users/dimitriosgiakoumas/Library/CloudStorage/OneDrive-FloridaAtlanticUniversity/Figures/Figure_2a.tiff\",\n",
    "    \"/Users/dimitriosgiakoumas/Library/CloudStorage/OneDrive-FloridaAtlanticUniversity/Figures/Figure_1.tiff\",\n",
    "    \"/Users/dimitriosgiakoumas/Library/CloudStorage/OneDrive-FloridaAtlanticUniversity/Figures/Figure_3b.tif\",\n",
    "    \"/Users/dimitriosgiakoumas/Library/CloudStorage/OneDrive-FloridaAtlanticUniversity/Figures/Figure_3a.tif\",\n",
    "    \"/Users/dimitriosgiakoumas/Library/CloudStorage/OneDrive-FloridaAtlanticUniversity/Figures/Figure_5.tif\",\n",
    "    \"/Users/dimitriosgiakoumas/Library/CloudStorage/OneDrive-FloridaAtlanticUniversity/Figures/Figure_6b.tif\"\n",
    "]\n",
    "\n",
    "# Function to convert TIF/TIFF to JPG\n",
    "def convert_to_jpg(file_path):\n",
    "    with Image.open(file_path) as img:\n",
    "        # Create the output file path by changing the extension to .jpg\n",
    "        output_path = os.path.splitext(file_path)[0] + '.jpg'\n",
    "        img = img.convert(\"RGB\")  # Ensure image is in RGB mode\n",
    "        # Save as JPG with high quality and set the DPI to 300\n",
    "        img.save(output_path, \"JPEG\", quality=95, dpi=(300, 300))\n",
    "        print(f\"Converted {file_path} to {output_path}\")\n",
    "\n",
    "# Convert each file\n",
    "for file_path in file_paths:\n",
    "    convert_to_jpg(file_path)\n"
   ]
  },
  {
   "cell_type": "code",
   "execution_count": null,
   "id": "6dc9c0cc31513c4",
   "metadata": {},
   "outputs": [],
   "source": []
  }
 ],
 "metadata": {
  "kernelspec": {
   "display_name": "Python 3 (ipykernel)",
   "language": "python",
   "name": "python3"
  }
 },
 "nbformat": 4,
 "nbformat_minor": 5
}
