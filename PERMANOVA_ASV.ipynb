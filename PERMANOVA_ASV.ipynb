{
 "cells": [
  {
   "cell_type": "code",
   "execution_count": 1,
   "id": "45d2d29b78592e65",
   "metadata": {
    "ExecuteTime": {
     "end_time": "2024-05-18T23:26:53.242870Z",
     "start_time": "2024-05-18T23:26:39.709147Z"
    },
    "collapsed": false
   },
   "outputs": [
    {
     "name": "stdout",
     "output_type": "stream",
     "text": [
      "PERMANOVA Results:\n",
      "method name               PERMANOVA\n",
      "test statistic name        pseudo-F\n",
      "sample size                      25\n",
      "number of groups                  3\n",
      "test statistic             1.258995\n",
      "p-value                       0.094\n",
      "number of permutations          999\n",
      "Name: PERMANOVA results, dtype: object\n",
      "\n",
      "PERMDISP Results:\n",
      "method name               PERMDISP\n",
      "test statistic name        F-value\n",
      "sample size                     25\n",
      "number of groups                 3\n",
      "test statistic            4.786462\n",
      "p-value                      0.462\n",
      "number of permutations         999\n",
      "Name: PERMDISP results, dtype: object\n",
      "\n",
      "Effect Size (R^2): 0.1027\n"
     ]
    },
    {
     "ename": "AttributeError",
     "evalue": "module 'numpy' has no attribute 'float'.\n`np.float` was a deprecated alias for the builtin `float`. To avoid this error in existing code, use `float` by itself. Doing this will not modify any behavior and is safe. If you specifically wanted the numpy scalar type, use `np.float64` here.\nThe aliases was originally deprecated in NumPy 1.20; for more details and guidance see the original release note at:\n    https://numpy.org/devdocs/release/1.20.0-notes.html#deprecations",
     "output_type": "error",
     "traceback": [
      "\u001b[0;31m---------------------------------------------------------------------------\u001b[0m",
      "\u001b[0;31mAttributeError\u001b[0m                            Traceback (most recent call last)",
      "Cell \u001b[0;32mIn[1], line 52\u001b[0m\n\u001b[1;32m     50\u001b[0m \u001b[38;5;66;03m# Plotting\u001b[39;00m\n\u001b[1;32m     51\u001b[0m plt\u001b[38;5;241m.\u001b[39mfigure(figsize\u001b[38;5;241m=\u001b[39m(\u001b[38;5;241m10\u001b[39m, \u001b[38;5;241m6\u001b[39m))\n\u001b[0;32m---> 52\u001b[0m ax \u001b[38;5;241m=\u001b[39m \u001b[43msns\u001b[49m\u001b[38;5;241;43m.\u001b[39;49m\u001b[43mboxplot\u001b[49m\u001b[43m(\u001b[49m\u001b[43mx\u001b[49m\u001b[38;5;241;43m=\u001b[39;49m\u001b[38;5;124;43m'\u001b[39;49m\u001b[38;5;124;43mGroup\u001b[39;49m\u001b[38;5;124;43m'\u001b[39;49m\u001b[43m,\u001b[49m\u001b[43m \u001b[49m\u001b[43my\u001b[49m\u001b[38;5;241;43m=\u001b[39;49m\u001b[38;5;124;43m'\u001b[39;49m\u001b[38;5;124;43mDistance\u001b[39;49m\u001b[38;5;124;43m'\u001b[39;49m\u001b[43m,\u001b[49m\u001b[43m \u001b[49m\u001b[43mhue\u001b[49m\u001b[38;5;241;43m=\u001b[39;49m\u001b[38;5;124;43m'\u001b[39;49m\u001b[38;5;124;43mGroup\u001b[39;49m\u001b[38;5;124;43m'\u001b[39;49m\u001b[43m,\u001b[49m\u001b[43m \u001b[49m\u001b[43mdata\u001b[49m\u001b[38;5;241;43m=\u001b[39;49m\u001b[43mdf\u001b[49m\u001b[43m,\u001b[49m\u001b[43m \u001b[49m\u001b[43mpalette\u001b[49m\u001b[38;5;241;43m=\u001b[39;49m\u001b[43mcustom_palette\u001b[49m\u001b[43m,\u001b[49m\u001b[43m \u001b[49m\u001b[43mdodge\u001b[49m\u001b[38;5;241;43m=\u001b[39;49m\u001b[38;5;28;43;01mFalse\u001b[39;49;00m\u001b[43m)\u001b[49m\n\u001b[1;32m     54\u001b[0m \u001b[38;5;66;03m# Adjust the legend\u001b[39;00m\n\u001b[1;32m     55\u001b[0m handles, labels \u001b[38;5;241m=\u001b[39m ax\u001b[38;5;241m.\u001b[39mget_legend_handles_labels()\n",
      "File \u001b[0;32m~/mambaforge/lib/python3.10/site-packages/seaborn/categorical.py:2233\u001b[0m, in \u001b[0;36mboxplot\u001b[0;34m(x, y, hue, data, order, hue_order, orient, color, palette, saturation, width, dodge, fliersize, linewidth, whis, ax, **kwargs)\u001b[0m\n\u001b[1;32m   2228\u001b[0m \u001b[38;5;28;01mdef\u001b[39;00m \u001b[38;5;21mboxplot\u001b[39m(x\u001b[38;5;241m=\u001b[39m\u001b[38;5;28;01mNone\u001b[39;00m, y\u001b[38;5;241m=\u001b[39m\u001b[38;5;28;01mNone\u001b[39;00m, hue\u001b[38;5;241m=\u001b[39m\u001b[38;5;28;01mNone\u001b[39;00m, data\u001b[38;5;241m=\u001b[39m\u001b[38;5;28;01mNone\u001b[39;00m, order\u001b[38;5;241m=\u001b[39m\u001b[38;5;28;01mNone\u001b[39;00m, hue_order\u001b[38;5;241m=\u001b[39m\u001b[38;5;28;01mNone\u001b[39;00m,\n\u001b[1;32m   2229\u001b[0m             orient\u001b[38;5;241m=\u001b[39m\u001b[38;5;28;01mNone\u001b[39;00m, color\u001b[38;5;241m=\u001b[39m\u001b[38;5;28;01mNone\u001b[39;00m, palette\u001b[38;5;241m=\u001b[39m\u001b[38;5;28;01mNone\u001b[39;00m, saturation\u001b[38;5;241m=\u001b[39m\u001b[38;5;241m.75\u001b[39m,\n\u001b[1;32m   2230\u001b[0m             width\u001b[38;5;241m=\u001b[39m\u001b[38;5;241m.8\u001b[39m, dodge\u001b[38;5;241m=\u001b[39m\u001b[38;5;28;01mTrue\u001b[39;00m, fliersize\u001b[38;5;241m=\u001b[39m\u001b[38;5;241m5\u001b[39m, linewidth\u001b[38;5;241m=\u001b[39m\u001b[38;5;28;01mNone\u001b[39;00m,\n\u001b[1;32m   2231\u001b[0m             whis\u001b[38;5;241m=\u001b[39m\u001b[38;5;241m1.5\u001b[39m, ax\u001b[38;5;241m=\u001b[39m\u001b[38;5;28;01mNone\u001b[39;00m, \u001b[38;5;241m*\u001b[39m\u001b[38;5;241m*\u001b[39mkwargs):\n\u001b[0;32m-> 2233\u001b[0m     plotter \u001b[38;5;241m=\u001b[39m \u001b[43m_BoxPlotter\u001b[49m\u001b[43m(\u001b[49m\u001b[43mx\u001b[49m\u001b[43m,\u001b[49m\u001b[43m \u001b[49m\u001b[43my\u001b[49m\u001b[43m,\u001b[49m\u001b[43m \u001b[49m\u001b[43mhue\u001b[49m\u001b[43m,\u001b[49m\u001b[43m \u001b[49m\u001b[43mdata\u001b[49m\u001b[43m,\u001b[49m\u001b[43m \u001b[49m\u001b[43morder\u001b[49m\u001b[43m,\u001b[49m\u001b[43m \u001b[49m\u001b[43mhue_order\u001b[49m\u001b[43m,\u001b[49m\n\u001b[1;32m   2234\u001b[0m \u001b[43m                          \u001b[49m\u001b[43morient\u001b[49m\u001b[43m,\u001b[49m\u001b[43m \u001b[49m\u001b[43mcolor\u001b[49m\u001b[43m,\u001b[49m\u001b[43m \u001b[49m\u001b[43mpalette\u001b[49m\u001b[43m,\u001b[49m\u001b[43m \u001b[49m\u001b[43msaturation\u001b[49m\u001b[43m,\u001b[49m\n\u001b[1;32m   2235\u001b[0m \u001b[43m                          \u001b[49m\u001b[43mwidth\u001b[49m\u001b[43m,\u001b[49m\u001b[43m \u001b[49m\u001b[43mdodge\u001b[49m\u001b[43m,\u001b[49m\u001b[43m \u001b[49m\u001b[43mfliersize\u001b[49m\u001b[43m,\u001b[49m\u001b[43m \u001b[49m\u001b[43mlinewidth\u001b[49m\u001b[43m)\u001b[49m\n\u001b[1;32m   2237\u001b[0m     \u001b[38;5;28;01mif\u001b[39;00m ax \u001b[38;5;129;01mis\u001b[39;00m \u001b[38;5;28;01mNone\u001b[39;00m:\n\u001b[1;32m   2238\u001b[0m         ax \u001b[38;5;241m=\u001b[39m plt\u001b[38;5;241m.\u001b[39mgca()\n",
      "File \u001b[0;32m~/mambaforge/lib/python3.10/site-packages/seaborn/categorical.py:436\u001b[0m, in \u001b[0;36m_BoxPlotter.__init__\u001b[0;34m(self, x, y, hue, data, order, hue_order, orient, color, palette, saturation, width, dodge, fliersize, linewidth)\u001b[0m\n\u001b[1;32m    432\u001b[0m \u001b[38;5;28;01mdef\u001b[39;00m \u001b[38;5;21m__init__\u001b[39m(\u001b[38;5;28mself\u001b[39m, x, y, hue, data, order, hue_order,\n\u001b[1;32m    433\u001b[0m              orient, color, palette, saturation,\n\u001b[1;32m    434\u001b[0m              width, dodge, fliersize, linewidth):\n\u001b[0;32m--> 436\u001b[0m     \u001b[38;5;28;43mself\u001b[39;49m\u001b[38;5;241;43m.\u001b[39;49m\u001b[43mestablish_variables\u001b[49m\u001b[43m(\u001b[49m\u001b[43mx\u001b[49m\u001b[43m,\u001b[49m\u001b[43m \u001b[49m\u001b[43my\u001b[49m\u001b[43m,\u001b[49m\u001b[43m \u001b[49m\u001b[43mhue\u001b[49m\u001b[43m,\u001b[49m\u001b[43m \u001b[49m\u001b[43mdata\u001b[49m\u001b[43m,\u001b[49m\u001b[43m \u001b[49m\u001b[43morient\u001b[49m\u001b[43m,\u001b[49m\u001b[43m \u001b[49m\u001b[43morder\u001b[49m\u001b[43m,\u001b[49m\u001b[43m \u001b[49m\u001b[43mhue_order\u001b[49m\u001b[43m)\u001b[49m\n\u001b[1;32m    437\u001b[0m     \u001b[38;5;28mself\u001b[39m\u001b[38;5;241m.\u001b[39mestablish_colors(color, palette, saturation)\n\u001b[1;32m    439\u001b[0m     \u001b[38;5;28mself\u001b[39m\u001b[38;5;241m.\u001b[39mdodge \u001b[38;5;241m=\u001b[39m dodge\n",
      "File \u001b[0;32m~/mambaforge/lib/python3.10/site-packages/seaborn/categorical.py:155\u001b[0m, in \u001b[0;36m_CategoricalPlotter.establish_variables\u001b[0;34m(self, x, y, hue, data, orient, order, hue_order, units)\u001b[0m\n\u001b[1;32m    152\u001b[0m         \u001b[38;5;28;01mraise\u001b[39;00m \u001b[38;5;167;01mValueError\u001b[39;00m(err)\n\u001b[1;32m    154\u001b[0m \u001b[38;5;66;03m# Figure out the plotting orientation\u001b[39;00m\n\u001b[0;32m--> 155\u001b[0m orient \u001b[38;5;241m=\u001b[39m \u001b[38;5;28;43mself\u001b[39;49m\u001b[38;5;241;43m.\u001b[39;49m\u001b[43minfer_orient\u001b[49m\u001b[43m(\u001b[49m\u001b[43mx\u001b[49m\u001b[43m,\u001b[49m\u001b[43m \u001b[49m\u001b[43my\u001b[49m\u001b[43m,\u001b[49m\u001b[43m \u001b[49m\u001b[43morient\u001b[49m\u001b[43m)\u001b[49m\n\u001b[1;32m    157\u001b[0m \u001b[38;5;66;03m# Option 2a:\u001b[39;00m\n\u001b[1;32m    158\u001b[0m \u001b[38;5;66;03m# We are plotting a single set of data\u001b[39;00m\n\u001b[1;32m    159\u001b[0m \u001b[38;5;66;03m# ------------------------------------\u001b[39;00m\n\u001b[1;32m    160\u001b[0m \u001b[38;5;28;01mif\u001b[39;00m x \u001b[38;5;129;01mis\u001b[39;00m \u001b[38;5;28;01mNone\u001b[39;00m \u001b[38;5;129;01mor\u001b[39;00m y \u001b[38;5;129;01mis\u001b[39;00m \u001b[38;5;28;01mNone\u001b[39;00m:\n\u001b[1;32m    161\u001b[0m \n\u001b[1;32m    162\u001b[0m     \u001b[38;5;66;03m# Determine where the data are\u001b[39;00m\n",
      "File \u001b[0;32m~/mambaforge/lib/python3.10/site-packages/seaborn/categorical.py:352\u001b[0m, in \u001b[0;36m_CategoricalPlotter.infer_orient\u001b[0;34m(self, x, y, orient)\u001b[0m\n\u001b[1;32m    350\u001b[0m     \u001b[38;5;28;01melse\u001b[39;00m:\n\u001b[1;32m    351\u001b[0m         \u001b[38;5;28;01mreturn\u001b[39;00m \u001b[38;5;124m\"\u001b[39m\u001b[38;5;124mh\u001b[39m\u001b[38;5;124m\"\u001b[39m\n\u001b[0;32m--> 352\u001b[0m \u001b[38;5;28;01melif\u001b[39;00m \u001b[43mis_not_numeric\u001b[49m\u001b[43m(\u001b[49m\u001b[43my\u001b[49m\u001b[43m)\u001b[49m:\n\u001b[1;32m    353\u001b[0m     \u001b[38;5;28;01mif\u001b[39;00m is_not_numeric(x):\n\u001b[1;32m    354\u001b[0m         \u001b[38;5;28;01mraise\u001b[39;00m \u001b[38;5;167;01mValueError\u001b[39;00m(no_numeric)\n",
      "File \u001b[0;32m~/mambaforge/lib/python3.10/site-packages/seaborn/categorical.py:332\u001b[0m, in \u001b[0;36m_CategoricalPlotter.infer_orient.<locals>.is_not_numeric\u001b[0;34m(s)\u001b[0m\n\u001b[1;32m    330\u001b[0m \u001b[38;5;28;01mdef\u001b[39;00m \u001b[38;5;21mis_not_numeric\u001b[39m(s):\n\u001b[1;32m    331\u001b[0m     \u001b[38;5;28;01mtry\u001b[39;00m:\n\u001b[0;32m--> 332\u001b[0m         np\u001b[38;5;241m.\u001b[39masarray(s, dtype\u001b[38;5;241m=\u001b[39m\u001b[43mnp\u001b[49m\u001b[38;5;241;43m.\u001b[39;49m\u001b[43mfloat\u001b[49m)\n\u001b[1;32m    333\u001b[0m     \u001b[38;5;28;01mexcept\u001b[39;00m \u001b[38;5;167;01mValueError\u001b[39;00m:\n\u001b[1;32m    334\u001b[0m         \u001b[38;5;28;01mreturn\u001b[39;00m \u001b[38;5;28;01mTrue\u001b[39;00m\n",
      "File \u001b[0;32m~/mambaforge/lib/python3.10/site-packages/numpy/__init__.py:324\u001b[0m, in \u001b[0;36m__getattr__\u001b[0;34m(attr)\u001b[0m\n\u001b[1;32m    319\u001b[0m     warnings\u001b[38;5;241m.\u001b[39mwarn(\n\u001b[1;32m    320\u001b[0m         \u001b[38;5;124mf\u001b[39m\u001b[38;5;124m\"\u001b[39m\u001b[38;5;124mIn the future `np.\u001b[39m\u001b[38;5;132;01m{\u001b[39;00mattr\u001b[38;5;132;01m}\u001b[39;00m\u001b[38;5;124m` will be defined as the \u001b[39m\u001b[38;5;124m\"\u001b[39m\n\u001b[1;32m    321\u001b[0m         \u001b[38;5;124m\"\u001b[39m\u001b[38;5;124mcorresponding NumPy scalar.\u001b[39m\u001b[38;5;124m\"\u001b[39m, \u001b[38;5;167;01mFutureWarning\u001b[39;00m, stacklevel\u001b[38;5;241m=\u001b[39m\u001b[38;5;241m2\u001b[39m)\n\u001b[1;32m    323\u001b[0m \u001b[38;5;28;01mif\u001b[39;00m attr \u001b[38;5;129;01min\u001b[39;00m __former_attrs__:\n\u001b[0;32m--> 324\u001b[0m     \u001b[38;5;28;01mraise\u001b[39;00m \u001b[38;5;167;01mAttributeError\u001b[39;00m(__former_attrs__[attr])\n\u001b[1;32m    326\u001b[0m \u001b[38;5;28;01mif\u001b[39;00m attr \u001b[38;5;241m==\u001b[39m \u001b[38;5;124m'\u001b[39m\u001b[38;5;124mtesting\u001b[39m\u001b[38;5;124m'\u001b[39m:\n\u001b[1;32m    327\u001b[0m     \u001b[38;5;28;01mimport\u001b[39;00m \u001b[38;5;21;01mnumpy\u001b[39;00m\u001b[38;5;21;01m.\u001b[39;00m\u001b[38;5;21;01mtesting\u001b[39;00m \u001b[38;5;28;01mas\u001b[39;00m \u001b[38;5;21;01mtesting\u001b[39;00m\n",
      "\u001b[0;31mAttributeError\u001b[0m: module 'numpy' has no attribute 'float'.\n`np.float` was a deprecated alias for the builtin `float`. To avoid this error in existing code, use `float` by itself. Doing this will not modify any behavior and is safe. If you specifically wanted the numpy scalar type, use `np.float64` here.\nThe aliases was originally deprecated in NumPy 1.20; for more details and guidance see the original release note at:\n    https://numpy.org/devdocs/release/1.20.0-notes.html#deprecations"
     ]
    },
    {
     "data": {
      "text/plain": [
       "<Figure size 1000x600 with 0 Axes>"
      ]
     },
     "metadata": {},
     "output_type": "display_data"
    }
   ],
   "source": [
    "import pandas as pd\n",
    "import numpy as np\n",
    "from skbio.stats.distance import DistanceMatrix, permanova, permdisp\n",
    "import seaborn as sns\n",
    "import matplotlib.pyplot as plt\n",
    "\n",
    "# Load data from a TSV file\n",
    "data = pd.read_csv('/Users/dimitriosgiakoumas/Downloads/PERM_ASV/bray_curtis_distance_matrix_mvf_ASV/distance-matrix.tsv', sep='\\t', index_col=0)\n",
    "dist_matrix = DistanceMatrix(np.ascontiguousarray(data.values), ids=data.index.tolist())  # Ensure the data is C-contiguous\n",
    "\n",
    "# Given sample IDs\n",
    "male_samples = [\"T20\", \"T107\", \"T203\", \"T212\", \"T99\", \"T195\", \"T205\", \"T160\", \"T216\", \"T209\", \"T16\"]\n",
    "female_samples = [\"T11\", \"T85.1\", \"T65\", \"T196\", \"TAK\", \"T159\", \"TAA\", \"T4.1\", \"T214\", \"T136\", \"T17\", \"T217\"]\n",
    "\n",
    "# Create a grouping vector\n",
    "group = ['male' if id in male_samples else 'female' if id in female_samples else 'unknown' for id in data.index]\n",
    "\n",
    "# Perform PERMANOVA and PERMDISP\n",
    "permanova_result = permanova(dist_matrix, group, permutations=999)\n",
    "permdisp_result = permdisp(dist_matrix, group, permutations=999)\n",
    "\n",
    "# Output the results\n",
    "print(\"PERMANOVA Results:\", permanova_result, \"\\nPERMDISP Results:\", permdisp_result, sep='\\n')\n",
    "\n",
    "# Extract distances for visualization\n",
    "def extract_distances(matrix, group1, group2):\n",
    "    return [matrix.at[s1, s2] for s1 in group1 for s2 in group2 if s1 != s2]\n",
    "\n",
    "within_male_distances = extract_distances(data, male_samples, male_samples)\n",
    "within_female_distances = extract_distances(data, female_samples, female_samples)\n",
    "between_mf_distances = extract_distances(data, male_samples, female_samples)\n",
    "\n",
    "# Create a DataFrame for visualization\n",
    "df = pd.DataFrame({\n",
    "    'Group': ['Within Male'] * len(within_male_distances) +\n",
    "             ['Within Female'] * len(within_female_distances) +\n",
    "             ['Between M-F'] * len(between_mf_distances),\n",
    "    'Distance': within_male_distances + within_female_distances + between_mf_distances\n",
    "})\n",
    "\n",
    "# Calculate effect size (R^2)\n",
    "SS_between = permanova_result['test statistic'] * (permanova_result['number of groups'] - 1)\n",
    "SS_total = SS_between + (permanova_result['sample size'] - permanova_result['number of groups'])\n",
    "R2 = SS_between / SS_total\n",
    "print(f\"\\nEffect Size (R^2): {R2:.4f}\")\n",
    "\n",
    "# Define your color palette here\n",
    "custom_palette = ['blue', 'pink', '#c8a2c8']  # Blue, Pink, Light Purple\n",
    "\n",
    "# Plotting\n",
    "plt.figure(figsize=(10, 6))\n",
    "ax = sns.boxplot(x='Group', y='Distance', hue='Group', data=df, palette=custom_palette, dodge=False)\n",
    "\n",
    "# Adjust the legend\n",
    "handles, labels = ax.get_legend_handles_labels()\n",
    "ax.legend(handles[:3], ['Within Male', 'Within Female', 'Between M-F'], title='Group')\n",
    "\n",
    "# Remove the hue legend since it's redundant\n",
    "ax.get_legend().remove()\n",
    "\n",
    "# Find the maximum distance for setting the height of significance bar\n",
    "max_distance = df['Distance'].max()\n",
    "\n",
    "# Function to add significance bars\n",
    "def add_significance_bar(start, end, height, display_text, ax):\n",
    "    ax.plot([start, start, end, end], [height, height + 0.05, height + 0.05, height], lw=1.5, c='black')\n",
    "    ax.text((start+end)*.5, height + 0.05, display_text, ha='center', va='bottom', color='black')\n",
    "\n",
    "# Add the significance bar at an appropriate height\n",
    "# The height is set to max_distance + 0.1 (or more) to ensure it is\n",
    "\n",
    "\n",
    "# Add the significance bar at an appropriate height\n",
    "# The height is set to max_distance + 0.1 (or more) to ensure it is above the highest boxplot\n",
    "#significance_height = max_distance + 0.1\n",
    "#add_significance_bar(start=0, end=1, height=significance_height, display_text='*', ax=ax)\n",
    "\n",
    "plt.title('Pairwise Comparisons from Bray-Curtis Distance Matrix')\n",
    "plt.show()\n",
    "\n"
   ]
  },
  {
   "cell_type": "code",
   "execution_count": null,
   "id": "4208786bf72d95bd",
   "metadata": {
    "collapsed": false
   },
   "outputs": [],
   "source": [
    "#All samples in\n",
    "biom convert -i /Users/dimitriosgiakoumas/Downloads/PERM_ASV/ASV_Table.tsv -o /Users/dimitriosgiakoumas/Downloads/PERM_ASV/ASV_Table.biom --table-type=\"OTU table\" --to-hdf5\n",
    "\n",
    "qiime tools import \\\n",
    "    --type 'FeatureTable[Frequency]' \\\n",
    "           --input-path /Users/dimitriosgiakoumas/Downloads/PERM_ASV/ASV_Table.biom \\\n",
    "           --output-path /Users/dimitriosgiakoumas/Downloads/PERM_ASV/ASV_Table.qza \\\n",
    "           --input-format BIOMV210Format\n",
    "\n",
    "qiime diversity beta \\\n",
    "                --i-table /Users/dimitriosgiakoumas/Downloads/PERM_ASV/ASV_Table.qza \\\n",
    "                --p-metric braycurtis \\\n",
    "                           --o-distance-matrix /Users/dimitriosgiakoumas/Downloads/PERM_ASV/bray_curtis_distance_matrix_mvf_ASV.qza\n",
    "\n",
    "qiime tools export \\\n",
    "            --input-path /Users/dimitriosgiakoumas/Downloads/PERM_ASV/bray_curtis_distance_matrix_mvf_ASV.qza \\\n",
    "            --output-path /Users/dimitriosgiakoumas/Downloads/PERM_ASV/bray_curtis_distance_matrix_mvf_ASV\n"
   ]
  },
  {
   "cell_type": "code",
   "execution_count": null,
   "id": "9f31c5f5b403004d",
   "metadata": {
    "collapsed": false
   },
   "outputs": [],
   "source": [
    "#Took out samples T85.2 and T85.3\n",
    "biom convert -i /Users/dimitriosgiakoumas/Downloads/PERM1/Composition_Summary_L7_mvf_1.tsv -o /Users/dimitriosgiakoumas/Downloads/PERM1/Composition_Summary_L7_mvf_1.biom --table-type=\"OTU table\" --to-hdf5\n",
    "\n",
    "qiime tools import \\\n",
    "    --type 'FeatureTable[Frequency]' \\\n",
    "           --input-path /Users/dimitriosgiakoumas/Downloads/PERM1/Composition_Summary_L7_mvf_1.biom \\\n",
    "           --output-path /Users/dimitriosgiakoumas/Downloads/PERM1/Composition_Summary_L7_mvf_1.qza \\\n",
    "           --input-format BIOMV210Format\n",
    "\n",
    "qiime diversity beta \\\n",
    "                --i-table /Users/dimitriosgiakoumas/Downloads/PERM1/Composition_Summary_L7_mvf_1.qza \\\n",
    "                --p-metric braycurtis \\\n",
    "                           --o-distance-matrix /Users/dimitriosgiakoumas/Downloads/PERM1/bray_curtis_distance_matrix_mvf_1.qza\n",
    "\n",
    "qiime tools export \\\n",
    "            --input-path /Users/dimitriosgiakoumas/Downloads/PERM1/bray_curtis_distance_matrix_mvf_1.qza \\\n",
    "            --output-path /Users/dimitriosgiakoumas/Downloads/PERM1/bray_curtis_distance_matrix_mvf_1\n"
   ]
  },
  {
   "cell_type": "code",
   "execution_count": 1,
   "id": "b727b624aec935dc",
   "metadata": {
    "ExecuteTime": {
     "end_time": "2024-02-12T03:24:54.701673Z",
     "start_time": "2024-02-12T03:24:54.661419Z"
    },
    "collapsed": false
   },
   "outputs": [
    {
     "name": "stdout",
     "output_type": "stream",
     "text": [
      "Conversion completed.\n"
     ]
    }
   ],
   "source": [
    "import csv\n",
    "\n",
    "input_file_path = '/Users/dimitriosgiakoumas/Downloads/PERM_ASV/ASV_Table.csv'\n",
    "output_file_path = '/Users/dimitriosgiakoumas/Downloads/PERM_ASV/ASV_Table.tsv'\n",
    "\n",
    "with open(input_file_path, 'r') as csv_file:\n",
    "    csv_reader = csv.reader(csv_file, delimiter=',')\n",
    "\n",
    "    with open(output_file_path, 'w', newline='') as tsv_file:\n",
    "        tsv_writer = csv.writer(tsv_file, delimiter='\\t')\n",
    "\n",
    "        for row in csv_reader:\n",
    "            tsv_writer.writerow(row)\n",
    "\n",
    "print(\"Conversion completed.\")\n"
   ]
  }
 ],
 "metadata": {
  "kernelspec": {
   "display_name": "Python 3",
   "language": "python",
   "name": "python3"
  },
  "language_info": {
   "codemirror_mode": {
    "name": "ipython",
    "version": 2
   },
   "file_extension": ".py",
   "mimetype": "text/x-python",
   "name": "python",
   "nbconvert_exporter": "python",
   "pygments_lexer": "ipython2",
   "version": "2.7.6"
  }
 },
 "nbformat": 4,
 "nbformat_minor": 5
}
