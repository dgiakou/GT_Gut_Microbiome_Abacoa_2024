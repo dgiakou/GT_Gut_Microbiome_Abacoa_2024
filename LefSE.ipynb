{
 "cells": [
  {
   "cell_type": "code",
   "execution_count": null,
   "id": "initial_id",
   "metadata": {
    "collapsed": true
   },
   "outputs": [],
   "source": [
    "#I ran these commands from the terminal on a MacBook Air, intel core\n",
    "#Name: lefse\n",
    "#Version: 1.1.2\n",
    "cd \n",
    "cd /Users/dimitriosgiakoumas/anaconda3/envs/biobakery_env/lefse\n",
    "\n",
    "conda activate /Users/dimitriosgiakoumas/anaconda3/envs/biobakery_env\n",
    "\n",
    "#optional\n",
    "/Users/dimitriosgiakoumas/anaconda3/envs/biobakery_env/bin/python setup.py install\n",
    "\n",
    "#I removed T85.2, T85.3 from input text\n",
    "\n",
    "lefse_format_input.py /Users/dimitriosgiakoumas/anaconda3/envs/biobakery_env/lefse/LEfSe_Input.txt /Users/dimitriosgiakoumas/anaconda3/envs/biobakery_env/lefse/LEfSe_Input.in -c 2 -s -1 -u 1 -o 1000000\n",
    "\n",
    "lefse_run.py /Users/dimitriosgiakoumas/anaconda3/envs/biobakery_env/lefse/LEfSe_Input.in /Users/dimitriosgiakoumas/anaconda3/envs/biobakery_env/lefse/LEfSe_Input.res -l 2.5\n",
    "\n",
    "lefse_plot_res.py /Users/dimitriosgiakoumas/anaconda3/envs/biobakery_env/lefse/LEfSe_Input.res /Users/dimitriosgiakoumas/anaconda3/envs/biobakery_env/lefse/LEfSe_Input.png --format png --dpi 300\n",
    "\n",
    "Threshold on the logarithmic LDA score for discriminative features 2.5\n",
    "Number of significantly discriminative features: 63 ( 63 ) before internal wilcoxon\n",
    "Number of discriminative features with abs LDA score > 2.5 : 15\n"
   ]
  },
  {
   "cell_type": "markdown",
   "id": "3a66d1d63b73346e",
   "metadata": {},
   "source": [
    "#Useful info\n",
    "python lefse_format_input.py --help\n",
    "conda lefse_format_input.py --info\n",
    "\n",
    "lefse-1.1.2-py3.11.egg\n",
    "\n",
    "Home-page: http://github.com/SegataLab/lefse/\n",
    "\n",
    "Name: lefse\n",
    "\n",
    "Version: 1.1.2\n",
    "\n",
    "Summary: LEfSe determines the features (organisms, clades, operational taxonomic units, genes, or functions)\n",
    "\n",
    "Home-page: http://github.com/SegataLab/lefse/\n",
    "\n",
    "Author: Nicola Segata\n",
    "\n",
    "Author-email: nicola.segata@unitn.it\n",
    "\n",
    "Segata, N., Izard, J., Waldron, L. et al. Metagenomic biomarker discovery and explanation. Genome Biol 12, R60 (2011). https://doi.org/10.1186/gb-2011-12-6-r60"
   ]
  }
 ],
 "metadata": {
  "kernelspec": {
   "display_name": "Python 3",
   "language": "python",
   "name": "python3"
  },
  "language_info": {
   "codemirror_mode": {
    "name": "ipython",
    "version": 2
   },
   "file_extension": ".py",
   "mimetype": "text/x-python",
   "name": "python",
   "nbconvert_exporter": "python",
   "pygments_lexer": "ipython2",
   "version": "2.7.6"
  }
 },
 "nbformat": 4,
 "nbformat_minor": 5
}
(biobakery_env) dimitriosgiakoumas@dimitriosgiakoumas ~ % conda list
# packages in environment at /Users/dimitriosgiakoumas/anaconda3/envs/biobakery_env:
#
# Name                    Version                   Build  Channel
biom-format               2.1.15                   pypi_0    pypi
bzip2                     1.0.8                h10d778d_5    conda-forge
ca-certificates           2023.11.17           h8857fd0_0    conda-forge
cffi                      1.16.0                   pypi_0    pypi
click                     8.1.7                    pypi_0    pypi
contourpy                 1.2.0                    pypi_0    pypi
cycler                    0.12.1                   pypi_0    pypi
fonttools                 4.47.2                   pypi_0    pypi
h5py                      3.10.0                   pypi_0    pypi
jinja2                    3.1.3                    pypi_0    pypi
kiwisolver                1.4.5                    pypi_0    pypi
libexpat                  2.5.0                hf0c8a7f_1    conda-forge
libffi                    3.4.2                h0d85af4_5    conda-forge
libsqlite                 3.44.2               h92b6c6a_0    conda-forge
libzlib                   1.2.13               h8a1eda9_5    conda-forge
markupsafe                2.1.3                    pypi_0    pypi
matplotlib                3.8.2                    pypi_0    pypi
ncurses                   6.4                  h93d8f39_2    conda-forge
numpy                     1.24.3                   pypi_0    pypi
openssl                   3.2.0                hd75f5a5_1    conda-forge
packaging                 23.2                     pypi_0    pypi
pandas                    2.2.0rc0                 pypi_0    pypi
pillow                    10.2.0                   pypi_0    pypi
pip                       23.3.2             pyhd8ed1ab_0    conda-forge
pycparser                 2.21                     pypi_0    pypi
pyparsing                 3.1.1                    pypi_0    pypi
python                    3.11.7          h9f0c242_1_cpython    conda-forge
python-dateutil           2.8.2                    pypi_0    pypi
pytz                      2023.3.post1             pypi_0    pypi
readline                  8.2                  h9e318b2_1    conda-forge
rpy2                      3.5.10                   pypi_0    pypi
scipy                     1.12.0rc1                pypi_0    pypi
setuptools                69.0.3             pyhd8ed1ab_0    conda-forge
six                       1.16.0                   pypi_0    pypi
tk                        8.6.13               h1abcd95_1    conda-forge
tzdata                    2023.4                   pypi_0    pypi
tzlocal                   5.2                      pypi_0    pypi
wheel                     0.42.0             pyhd8ed1ab_0    conda-forge
xz                        5.2.6                h775f41a_0    conda-forge
