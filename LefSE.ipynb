{
 "cells": [
  {
   "cell_type": "code",
   "execution_count": null,
   "id": "initial_id",
   "metadata": {
    "collapsed": true
   },
   "outputs": [],
   "source": [
    "#I ran these commands from the terminal on a MacBook Air, intel core\n",
    "#Name: lefse\n",
    "#Version: 1.1.2\n",
    "cd \n",
    "cd /Users/dimitriosgiakoumas/anaconda3/envs/biobakery_env/lefse\n",
    "\n",
    "conda activate /Users/dimitriosgiakoumas/anaconda3/envs/biobakery_env\n",
    "\n",
    "#optional\n",
    "/Users/dimitriosgiakoumas/anaconda3/envs/biobakery_env/bin/python setup.py install\n",
    "\n",
    "#I removed T85.2, T85.3 from input text\n",
    "\n",
    "lefse_format_input.py /Users/dimitriosgiakoumas/anaconda3/envs/biobakery_env/lefse/LEfSe_Input.txt /Users/dimitriosgiakoumas/anaconda3/envs/biobakery_env/lefse/LEfSe_Input.in -c 2 -s -1 -u 1 -o 1000000\n",
    "\n",
    "lefse_run.py /Users/dimitriosgiakoumas/anaconda3/envs/biobakery_env/lefse/LEfSe_Input.in /Users/dimitriosgiakoumas/anaconda3/envs/biobakery_env/lefse/LEfSe_Input.res -l 2.5\n",
    "\n",
    "lefse_plot_res.py /Users/dimitriosgiakoumas/anaconda3/envs/biobakery_env/lefse/LEfSe_Input.res /Users/dimitriosgiakoumas/anaconda3/envs/biobakery_env/lefse/LEfSe_Input.png --format png --dpi 300\n",
    "\n",
    "Threshold on the logarithmic LDA score for discriminative features 2.5\n",
    "Number of significantly discriminative features: 63 ( 63 ) before internal wilcoxon\n",
    "Number of discriminative features with abs LDA score > 2.5 : 15\n"
   ]
  },
  {
   "cell_type": "markdown",
   "id": "3a66d1d63b73346e",
   "metadata": {},
   "source": [
    "#Useful info\n",
    "python lefse_format_input.py --help\n",
    "conda lefse_format_input.py --info\n",
    "\n",
    "lefse-1.1.2-py3.11.egg\n",
    "\n",
    "Home-page: http://github.com/SegataLab/lefse/\n",
    "\n",
    "Name: lefse\n",
    "\n",
    "Version: 1.1.2\n",
    "\n",
    "Summary: LEfSe determines the features (organisms, clades, operational taxonomic units, genes, or functions)\n",
    "\n",
    "Home-page: http://github.com/SegataLab/lefse/\n",
    "\n",
    "Author: Nicola Segata\n",
    "\n",
    "Author-email: nicola.segata@unitn.it\n",
    "\n",
    "Segata, N., Izard, J., Waldron, L. et al. Metagenomic biomarker discovery and explanation. Genome Biol 12, R60 (2011). https://doi.org/10.1186/gb-2011-12-6-r60"
   ]
  }
 ],
 "metadata": {
  "kernelspec": {
   "display_name": "Python 3",
   "language": "python",
   "name": "python3"
  },
  "language_info": {
   "codemirror_mode": {
    "name": "ipython",
    "version": 2
   },
   "file_extension": ".py",
   "mimetype": "text/x-python",
   "name": "python",
   "nbconvert_exporter": "python",
   "pygments_lexer": "ipython2",
   "version": "2.7.6"
  }
 },
 "nbformat": 4,
 "nbformat_minor": 5
}
